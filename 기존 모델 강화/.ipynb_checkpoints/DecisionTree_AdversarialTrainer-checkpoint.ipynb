{
 "cells": [
  {
   "cell_type": "code",
   "execution_count": null,
   "metadata": {},
   "outputs": [],
   "source": [
    "from sklearn.datasets import load_iris\n",
    "from sklearn.tree import DecisionTreeClassifier\n",
    "from sklearn.model_selection import train_test_split\n",
    "\n",
    "from art.estimators.classification.classifier import ClassGradientsMixin\n",
    "from art.attacks.evasion.saliency_map import SaliencyMapMethod\n",
    "from art.defences.trainer import AdversarialTrainer\n",
    "\n",
    "import warnings\n",
    "warnings.filterwarnings('ignore')"
   ]
  },
  {
   "cell_type": "code",
   "execution_count": 7,
   "metadata": {},
   "outputs": [],
   "source": [
    "# iris 데이터 불러오기\n",
    "iris_dataset = load_iris()\n",
    "\n",
    "iris_data = iris_dataset.data\n",
    "iris_label = iris_dataset.target\n",
    "\n",
    "# 위에서 불러온 데이터 나누기\n",
    "X_train, X_test, y_train, y_test = train_test_split(iris_data, iris_label, test_size=0.2, random_state=11)"
   ]
  },
  {
   "cell_type": "code",
   "execution_count": 8,
   "metadata": {},
   "outputs": [
    {
     "data": {
      "text/plain": [
       "DecisionTreeClassifier(random_state=11)"
      ]
     },
     "execution_count": 8,
     "metadata": {},
     "output_type": "execute_result"
    }
   ],
   "source": [
    "# 객체 생성\n",
    "clf = DecisionTreeClassifier(max_depth=None, random_state=11)\n",
    "\n",
    "# 학습\n",
    "clf.fit(X_train,y_train)"
   ]
  },
  {
   "cell_type": "code",
   "execution_count": 9,
   "metadata": {},
   "outputs": [
    {
     "name": "stdout",
     "output_type": "stream",
     "text": [
      "훈련 점수 1.000000\n",
      "테스트 점수 0.933333\n"
     ]
    }
   ],
   "source": [
    "print(\"훈련 점수 {:3f}\".format(clf.score(X_train,y_train)))\n",
    "print(\"테스트 점수 {:3f}\".format(clf.score(X_test,y_test)))"
   ]
  },
  {
   "cell_type": "code",
   "execution_count": 10,
   "metadata": {},
   "outputs": [
    {
     "name": "stdout",
     "output_type": "stream",
     "text": [
      "정확도 :  0.93 \n",
      "\n"
     ]
    }
   ],
   "source": [
    "import sklearn.metrics as mt\n",
    "\n",
    "y_pred = clf.predict(X_test)\n",
    "accuracy = mt.accuracy_score(y_test, y_pred)\n",
    "\n",
    "print('정확도 : ', format(accuracy,'.2f'),'\\n')"
   ]
  },
  {
   "cell_type": "code",
   "execution_count": null,
   "metadata": {},
   "outputs": [],
   "source": [
    "from art.attacks.evasion import DeepFool\n",
    "from art.estimators.classification.scikitlearn import SklearnClassifier\n",
    "\n",
    "classifier = SklearnClassifier(model=clf, clip_values=(0, 1))\n",
    "attack = DeepFool(classifier)\n",
    "x_test_iris_adv = attack.generate(X_test)"
   ]
  },
  {
   "cell_type": "code",
   "execution_count": null,
   "metadata": {},
   "outputs": [],
   "source": []
  }
 ],
 "metadata": {
  "kernelspec": {
   "display_name": "Python 3",
   "language": "python",
   "name": "python3"
  },
  "language_info": {
   "codemirror_mode": {
    "name": "ipython",
    "version": 3
   },
   "file_extension": ".py",
   "mimetype": "text/x-python",
   "name": "python",
   "nbconvert_exporter": "python",
   "pygments_lexer": "ipython3",
   "version": "3.7.7"
  }
 },
 "nbformat": 4,
 "nbformat_minor": 4
}
