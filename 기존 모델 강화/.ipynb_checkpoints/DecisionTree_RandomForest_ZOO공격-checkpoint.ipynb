{
 "cells": [
  {
   "cell_type": "code",
   "execution_count": 1,
   "metadata": {},
   "outputs": [],
   "source": [
    "from sklearn.tree import DecisionTreeClassifier\n",
    "from sklearn.ensemble import RandomForestClassifier\n",
    "from sklearn.datasets import load_iris\n",
    "\n",
    "import numpy as np\n",
    "from matplotlib import pyplot as plt\n",
    "\n",
    "from art.estimators.classification import SklearnClassifier\n",
    "from art.attacks.evasion import ZooAttack\n",
    "from art.utils import load_mnist\n",
    "\n",
    "import warnings\n",
    "warnings.filterwarnings('ignore')"
   ]
  },
  {
   "cell_type": "code",
   "execution_count": 2,
   "metadata": {},
   "outputs": [],
   "source": [
    "(x_train, y_train), (x_test, y_test), min_, max_ = load_mnist()\n",
    "\n",
    "n_samples_train = x_train.shape[0]\n",
    "n_features_train = x_train.shape[1] * x_train.shape[2] * x_train.shape[3]\n",
    "n_samples_test = x_test.shape[0]\n",
    "n_features_test = x_test.shape[1] * x_test.shape[2] * x_test.shape[3]\n",
    "\n",
    "x_train = x_train.reshape(n_samples_train, n_features_train)\n",
    "x_test = x_test.reshape(n_samples_test, n_features_test)\n",
    "\n",
    "y_train = np.argmax(y_train, axis=1)\n",
    "y_test = np.argmax(y_test, axis=1)\n",
    "\n",
    "n_samples_max = 200\n",
    "x_train = x_train[0:n_samples_max]\n",
    "y_train = y_train[0:n_samples_max]\n",
    "x_test = x_test[0:n_samples_max]\n",
    "y_test = y_test[0:n_samples_max]"
   ]
  },
  {
   "cell_type": "code",
   "execution_count": 3,
   "metadata": {},
   "outputs": [],
   "source": [
    "decision_model = DecisionTreeClassifier(max_depth=None, min_samples_split=2, \n",
    "                               min_samples_leaf=1, min_weight_fraction_leaf=0.0, max_features=None, \n",
    "                               random_state=None, max_leaf_nodes=50, min_impurity_decrease=0.0, \n",
    "                               min_impurity_split=None, class_weight=None, presort=False)"
   ]
  },
  {
   "cell_type": "code",
   "execution_count": 4,
   "metadata": {},
   "outputs": [],
   "source": [
    "randomforest_model = RandomForestClassifier(max_depth=None, min_samples_split=2, \n",
    "                               min_samples_leaf=1, min_weight_fraction_leaf=0.0, max_features=None, \n",
    "                               random_state=None, max_leaf_nodes=50, min_impurity_decrease=0.0, \n",
    "                               min_impurity_split=None, class_weight=None)"
   ]
  },
  {
   "cell_type": "code",
   "execution_count": 5,
   "metadata": {},
   "outputs": [
    {
     "data": {
      "text/plain": [
       "RandomForestClassifier(max_features=None, max_leaf_nodes=50)"
      ]
     },
     "execution_count": 5,
     "metadata": {},
     "output_type": "execute_result"
    }
   ],
   "source": [
    "decision_model.fit(X=x_train, y=y_train)\n",
    "randomforest_model.fit(X=x_train, y=y_train)"
   ]
  },
  {
   "cell_type": "code",
   "execution_count": 6,
   "metadata": {},
   "outputs": [],
   "source": [
    "d_classifier = SklearnClassifier(model=decision_model)\n",
    "r_classifier = SklearnClassifier(model=randomforest_model)"
   ]
  },
  {
   "cell_type": "code",
   "execution_count": 7,
   "metadata": {},
   "outputs": [],
   "source": [
    "d_zoo = ZooAttack(classifier=d_classifier, confidence=0.0, targeted=False, learning_rate=1e-1, max_iter=100,\n",
    "                binary_search_steps=20, initial_const=1e-3, abort_early=True, use_resize=False, \n",
    "                use_importance=False, nb_parallel=10, batch_size=1, variable_h=0.25)"
   ]
  },
  {
   "cell_type": "code",
   "execution_count": 8,
   "metadata": {},
   "outputs": [],
   "source": [
    "r_zoo = ZooAttack(classifier=r_classifier, confidence=0.0, targeted=False, learning_rate=1e-1, max_iter=100,\n",
    "                binary_search_steps=20, initial_const=1e-3, abort_early=True, use_resize=False, \n",
    "                use_importance=False, nb_parallel=10, batch_size=1, variable_h=0.25)"
   ]
  },
  {
   "cell_type": "code",
   "execution_count": 9,
   "metadata": {},
   "outputs": [
    {
     "data": {
      "application/vnd.jupyter.widget-view+json": {
       "model_id": "366d5c18ccd64a7596eff12ecd2de324",
       "version_major": 2,
       "version_minor": 0
      },
      "text/plain": [
       "ZOO:   0%|          | 0/200 [00:00<?, ?it/s]"
      ]
     },
     "metadata": {},
     "output_type": "display_data"
    },
    {
     "data": {
      "application/vnd.jupyter.widget-view+json": {
       "model_id": "96d9a8a60c744c66bcbbc1e7e0961147",
       "version_major": 2,
       "version_minor": 0
      },
      "text/plain": [
       "ZOO:   0%|          | 0/200 [00:00<?, ?it/s]"
      ]
     },
     "metadata": {},
     "output_type": "display_data"
    }
   ],
   "source": [
    "d_x_train_adv = d_zoo.generate(x_train)\n",
    "d_x_test_adv = d_zoo.generate(x_test)"
   ]
  },
  {
   "cell_type": "code",
   "execution_count": 10,
   "metadata": {},
   "outputs": [
    {
     "data": {
      "application/vnd.jupyter.widget-view+json": {
       "model_id": "072ed35fa25f48c5a23a1e8aa3415f3c",
       "version_major": 2,
       "version_minor": 0
      },
      "text/plain": [
       "ZOO:   0%|          | 0/200 [00:00<?, ?it/s]"
      ]
     },
     "metadata": {},
     "output_type": "display_data"
    },
    {
     "data": {
      "application/vnd.jupyter.widget-view+json": {
       "model_id": "88b50fe7adde463093c5c3119526054d",
       "version_major": 2,
       "version_minor": 0
      },
      "text/plain": [
       "ZOO:   0%|          | 0/200 [00:00<?, ?it/s]"
      ]
     },
     "metadata": {},
     "output_type": "display_data"
    }
   ],
   "source": [
    "r_x_train_adv = r_zoo.generate(x_train)\n",
    "r_x_test_adv = r_zoo.generate(x_test)"
   ]
  },
  {
   "cell_type": "code",
   "execution_count": 17,
   "metadata": {},
   "outputs": [
    {
     "name": "stdout",
     "output_type": "stream",
     "text": [
      "기존 데이터를 이용한 학습 정도 : 1.0000\n",
      "기존 데이터를 이용하여 학습한 결과: 5\n",
      "정확도 : 0.42\n"
     ]
    },
    {
     "data": {
      "image/png": "[encoded data removed]",
      "text/plain": [
       "<Figure size 288x288 with 1 Axes>"
      ]
     },
     "metadata": {
      "needs_background": "light"
     },
     "output_type": "display_data"
    }
   ],
   "source": [
    "# 공격 받기 전 의사 결정 트리의 학습 정도와\n",
    "# 학습 결과 출력\n",
    "from sklearn.metrics import accuracy_score\n",
    "score = decision_model.score(x_train, y_train)\n",
    "print(\"기존 데이터를 이용한 학습 정도 : %.4f\" % score)\n",
    "plt.matshow(x_train[0, :].reshape((28, 28)))\n",
    "plt.clim(0, 1)\n",
    "prediction = decision_model.predict(x_train[0:1, :])[0]\n",
    "print(\"기존 데이터를 이용하여 학습한 결과: %i\" % prediction)\n",
    "\n",
    "\n",
    "prediction = decision_model.predict(x_test)\n",
    "print('정확도 : %.2f' % accuracy_score(y_test, prediction))"
   ]
  },
  {
   "cell_type": "code",
   "execution_count": 18,
   "metadata": {},
   "outputs": [
    {
     "name": "stdout",
     "output_type": "stream",
     "text": [
      "공격 당한 데이터를 이용한 학습 정도 : 0.0850\n",
      "공격 당한 데이터를 이용하여 학습한 결과 : 8\n",
      "정확도 : 0.17\n"
     ]
    },
    {
     "data": {
      "image/png": "[encoded data removed]",
      "text/plain": [
       "<Figure size 288x288 with 1 Axes>"
      ]
     },
     "metadata": {
      "needs_background": "light"
     },
     "output_type": "display_data"
    }
   ],
   "source": [
    "# ZOO 공격을 받고 나서 의사 결정 트리의 학습 정도와\n",
    "# 학습 결과 출력\n",
    "\n",
    "score = decision_model.score(d_x_train_adv, y_train)\n",
    "print(\"공격 당한 데이터를 이용한 학습 정도 : %.4f\" % score)\n",
    "plt.matshow(d_x_train_adv[0, :].reshape((28, 28)))\n",
    "plt.clim(0, 1)\n",
    "prediction = decision_model.predict(d_x_train_adv[0:1, :])[0]\n",
    "print(\"공격 당한 데이터를 이용하여 학습한 결과 : %i\" % prediction)\n",
    "\n",
    "prediction = decision_model.predict(d_x_test_adv)\n",
    "print('정확도 : %.2f' % accuracy_score(y_test, prediction))"
   ]
  },
  {
   "cell_type": "code",
   "execution_count": 19,
   "metadata": {},
   "outputs": [
    {
     "name": "stdout",
     "output_type": "stream",
     "text": [
      "기존 데이터를 이용한 학습 정도 : 1.0000\n",
      "기존 데이터를 이용하여 학습한 결과: 5\n",
      "정확도 : 0.69\n"
     ]
    },
    {
     "data": {
      "image/png": "[encoded data removed]",
      "text/plain": [
       "<Figure size 288x288 with 1 Axes>"
      ]
     },
     "metadata": {
      "needs_background": "light"
     },
     "output_type": "display_data"
    }
   ],
   "source": [
    "# 공격 받기 전 랜덤 포레스트의 학습 정도와\n",
    "# 학습 결과 출력\n",
    "\n",
    "score = randomforest_model.score(x_train, y_train)\n",
    "print(\"기존 데이터를 이용한 학습 정도 : %.4f\" % score)\n",
    "plt.matshow(x_train[0, :].reshape((28, 28)))\n",
    "plt.clim(0, 1)\n",
    "prediction = randomforest_model.predict(x_train[0:1, :])[0]\n",
    "print(\"기존 데이터를 이용하여 학습한 결과: %i\" % prediction)\n",
    "\n",
    "prediction = randomforest_model.predict(x_test)\n",
    "print('정확도 : %.2f' % accuracy_score(y_test, prediction))"
   ]
  },
  {
   "cell_type": "code",
   "execution_count": 20,
   "metadata": {},
   "outputs": [
    {
     "name": "stdout",
     "output_type": "stream",
     "text": [
      "공격 당한 데이터를 이용한 학습 정도 : 0.0750\n",
      "공격 당한 데이터를 이용하여 학습한 결과 : 6\n",
      "정확도 : 0.14\n"
     ]
    },
    {
     "data": {
      "image/png": "[encoded data removed]",
      "text/plain": [
       "<Figure size 288x288 with 1 Axes>"
      ]
     },
     "metadata": {
      "needs_background": "light"
     },
     "output_type": "display_data"
    }
   ],
   "source": [
    "# ZOO 공격을 받고 나서 랜덤 포레스트의 학습 정도와\n",
    "# 학습 결과 출력\n",
    "\n",
    "score = randomforest_model.score(r_x_train_adv, y_train)\n",
    "print(\"공격 당한 데이터를 이용한 학습 정도 : %.4f\" % score)\n",
    "plt.matshow(r_x_train_adv[0, :].reshape((28, 28)))\n",
    "plt.clim(0, 1)\n",
    "prediction = randomforest_model.predict(r_x_train_adv[0:1, :])[0]\n",
    "print(\"공격 당한 데이터를 이용하여 학습한 결과 : %i\" % prediction)\n",
    "\n",
    "prediction = randomforest_model.predict(r_x_test_adv)\n",
    "print('정확도 : %.2f' % accuracy_score(y_test, prediction))"
   ]
  },
  {
   "cell_type": "code",
   "execution_count": 21,
   "metadata": {},
   "outputs": [
    {
     "name": "stdout",
     "output_type": "stream",
     "text": [
      "기존 데이터를 이용한 학습 정도 : 1.0000\n",
      "기존 데이터를 이용하여 학습한 결과 : 7\n",
      "정확도 : 0.42\n"
     ]
    },
    {
     "data": {
      "image/png": "[encoded data removed]",
      "text/plain": [
       "<Figure size 288x288 with 1 Axes>"
      ]
     },
     "metadata": {
      "needs_background": "light"
     },
     "output_type": "display_data"
    }
   ],
   "source": [
    "# 공격 받기 전 의사 결정 트리의 학습 정도와\n",
    "# 학습 결과 출력\n",
    "\n",
    "score = decision_model.score(x_train, y_train)\n",
    "print(\"기존 데이터를 이용한 학습 정도 : %.4f\" % score)\n",
    "plt.matshow(x_test[0, :].reshape((28, 28)))\n",
    "plt.clim(0, 1)\n",
    "prediction = decision_model.predict(x_test[0:1, :])[0]\n",
    "print(\"기존 데이터를 이용하여 학습한 결과 : %i\" % prediction)\n",
    "\n",
    "prediction = decision_model.predict(x_test)\n",
    "print('정확도 : %.2f' % accuracy_score(y_test, prediction))"
   ]
  },
  {
   "cell_type": "code",
   "execution_count": 22,
   "metadata": {},
   "outputs": [
    {
     "name": "stdout",
     "output_type": "stream",
     "text": [
      "공격 당한 데이터를 이용한 학습 정도 : 0.1650\n",
      "공격 당한 데이터를 이용하여 학습한 결과 : 3\n",
      "정확도 : 0.17\n"
     ]
    },
    {
     "data": {
      "image/png": "[encoded data removed]",
      "text/plain": [
       "<Figure size 288x288 with 1 Axes>"
      ]
     },
     "metadata": {
      "needs_background": "light"
     },
     "output_type": "display_data"
    }
   ],
   "source": [
    "# ZOO 공격을 받고 나서 의사 결정 트리의 학습 정도와\n",
    "# 학습 결과 출력\n",
    "\n",
    "score = decision_model.score(d_x_test_adv, y_test)\n",
    "print(\"공격 당한 데이터를 이용한 학습 정도 : %.4f\" % score)\n",
    "plt.matshow(d_x_test_adv[0, :].reshape((28, 28)))\n",
    "plt.clim(0, 1)\n",
    "prediction = decision_model.predict(d_x_test_adv[0:1, :])[0]\n",
    "print(\"공격 당한 데이터를 이용하여 학습한 결과 : %i\" % prediction)\n",
    "\n",
    "prediction = decision_model.predict(d_x_test_adv)\n",
    "print('정확도 : %.2f' % accuracy_score(y_test, prediction))"
   ]
  },
  {
   "cell_type": "code",
   "execution_count": 23,
   "metadata": {},
   "outputs": [
    {
     "name": "stdout",
     "output_type": "stream",
     "text": [
      "기존 데이터를 이용한 학습 정도 : 1.0000\n",
      "기존 데이터를 이용하여 학습한 결과 : 7\n",
      "정확도 : 0.69\n"
     ]
    },
    {
     "data": {
      "image/png": "[encoded data removed]",
      "text/plain": [
       "<Figure size 288x288 with 1 Axes>"
      ]
     },
     "metadata": {
      "needs_background": "light"
     },
     "output_type": "display_data"
    }
   ],
   "source": [
    "# 공격 받기 전 랜덤 포레스트의 학습 정도와\n",
    "# 학습 결과 출력\n",
    "\n",
    "score = randomforest_model.score(x_train, y_train)\n",
    "print(\"기존 데이터를 이용한 학습 정도 : %.4f\" % score)\n",
    "plt.matshow(x_test[0, :].reshape((28, 28)))\n",
    "plt.clim(0, 1)\n",
    "prediction = randomforest_model.predict(x_test[0:1, :])[0]\n",
    "print(\"기존 데이터를 이용하여 학습한 결과 : %i\" % prediction)\n",
    "\n",
    "prediction = randomforest_model.predict(x_test)\n",
    "print('정확도 : %.2f' % accuracy_score(y_test, prediction))"
   ]
  },
  {
   "cell_type": "code",
   "execution_count": 24,
   "metadata": {},
   "outputs": [
    {
     "name": "stdout",
     "output_type": "stream",
     "text": [
      "공격 당한 데이터를 이용한 학습 정도 : 0.1350\n",
      "공격 당한 데이터를 이용하여 학습한 결과 : 9\n",
      "정확도 : 0.14\n"
     ]
    },
    {
     "data": {
      "image/png": "[encoded data removed]",
      "text/plain": [
       "<Figure size 288x288 with 1 Axes>"
      ]
     },
     "metadata": {
      "needs_background": "light"
     },
     "output_type": "display_data"
    }
   ],
   "source": [
    "# ZOO 공격을 받고 나서 랜덤 포레스트의 학습 정도와\n",
    "# 학습 결과 출력\n",
    "\n",
    "score = randomforest_model.score(r_x_test_adv, y_test)\n",
    "print(\"공격 당한 데이터를 이용한 학습 정도 : %.4f\" % score)\n",
    "plt.matshow(r_x_test_adv[0, :].reshape((28, 28)))\n",
    "plt.clim(0, 1)\n",
    "prediction = randomforest_model.predict(r_x_test_adv[0:1, :])[0]\n",
    "print(\"공격 당한 데이터를 이용하여 학습한 결과 : %i\" % prediction)\n",
    "\n",
    "prediction = randomforest_model.predict(r_x_test_adv)\n",
    "print('정확도 : %.2f' % accuracy_score(y_test, prediction))"
   ]
  },
  {
   "cell_type": "code",
   "execution_count": null,
   "metadata": {},
   "outputs": [],
   "source": []
  }
 ],
 "metadata": {
  "kernelspec": {
   "display_name": "Python 3",
   "language": "python",
   "name": "python3"
  },
  "language_info": {
   "codemirror_mode": {
    "name": "ipython",
    "version": 3
   },
   "file_extension": ".py",
   "mimetype": "text/x-python",
   "name": "python",
   "nbconvert_exporter": "python",
   "pygments_lexer": "ipython3",
   "version": "3.7.7"
  }
 },
 "nbformat": 4,
 "nbformat_minor": 4
}
