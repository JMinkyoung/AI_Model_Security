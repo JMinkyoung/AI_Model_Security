{
 "cells": [
  {
   "cell_type": "code",
   "execution_count": 1,
   "metadata": {},
   "outputs": [
    {
     "name": "stderr",
     "output_type": "stream",
     "text": [
      "c:\\users\\좌\\appdata\\local\\programs\\python\\python37\\lib\\site-packages\\tensorflow\\python\\framework\\dtypes.py:526: FutureWarning: Passing (type, 1) or '1type' as a synonym of type is deprecated; in a future version of numpy, it will be understood as (type, (1,)) / '(1,)type'.\n",
      "  _np_qint8 = np.dtype([(\"qint8\", np.int8, 1)])\n",
      "c:\\users\\좌\\appdata\\local\\programs\\python\\python37\\lib\\site-packages\\tensorflow\\python\\framework\\dtypes.py:527: FutureWarning: Passing (type, 1) or '1type' as a synonym of type is deprecated; in a future version of numpy, it will be understood as (type, (1,)) / '(1,)type'.\n",
      "  _np_quint8 = np.dtype([(\"quint8\", np.uint8, 1)])\n",
      "c:\\users\\좌\\appdata\\local\\programs\\python\\python37\\lib\\site-packages\\tensorflow\\python\\framework\\dtypes.py:528: FutureWarning: Passing (type, 1) or '1type' as a synonym of type is deprecated; in a future version of numpy, it will be understood as (type, (1,)) / '(1,)type'.\n",
      "  _np_qint16 = np.dtype([(\"qint16\", np.int16, 1)])\n",
      "c:\\users\\좌\\appdata\\local\\programs\\python\\python37\\lib\\site-packages\\tensorflow\\python\\framework\\dtypes.py:529: FutureWarning: Passing (type, 1) or '1type' as a synonym of type is deprecated; in a future version of numpy, it will be understood as (type, (1,)) / '(1,)type'.\n",
      "  _np_quint16 = np.dtype([(\"quint16\", np.uint16, 1)])\n",
      "c:\\users\\좌\\appdata\\local\\programs\\python\\python37\\lib\\site-packages\\tensorflow\\python\\framework\\dtypes.py:530: FutureWarning: Passing (type, 1) or '1type' as a synonym of type is deprecated; in a future version of numpy, it will be understood as (type, (1,)) / '(1,)type'.\n",
      "  _np_qint32 = np.dtype([(\"qint32\", np.int32, 1)])\n",
      "c:\\users\\좌\\appdata\\local\\programs\\python\\python37\\lib\\site-packages\\tensorflow\\python\\framework\\dtypes.py:535: FutureWarning: Passing (type, 1) or '1type' as a synonym of type is deprecated; in a future version of numpy, it will be understood as (type, (1,)) / '(1,)type'.\n",
      "  np_resource = np.dtype([(\"resource\", np.ubyte, 1)])\n"
     ]
    }
   ],
   "source": [
    "import tensorflow.compat.v1 as tf\n",
    "import numpy as np\n",
    "import warnings\n",
    "warnings.filterwarnings('ignore')\n",
    "\n",
    "from art.defences.trainer import AdversarialTrainer\n",
    "from art.attacks.evasion import FastGradientMethod\n",
    "from art.estimators.classification import TensorFlowClassifier\n",
    "from art.utils import load_mnist"
   ]
  },
  {
   "cell_type": "code",
   "execution_count": 10,
   "metadata": {},
   "outputs": [
    {
     "name": "stdout",
     "output_type": "stream",
     "text": [
      "60000\n",
      "10000\n"
     ]
    }
   ],
   "source": [
    "# MNIST 데이터 셋을 각각 train, test로 나눠서 불러온다\n",
    "\n",
    "(x_train, y_train), (x_test, y_test), min_pixel_value, max_pixel_value = load_mnist()\n",
    "print(len(y_train))\n",
    "print(len(y_test))"
   ]
  },
  {
   "cell_type": "code",
   "execution_count": 11,
   "metadata": {},
   "outputs": [],
   "source": [
    "# 학습을 진행할 모델을 생성한다\n",
    "\n",
    "input_ph = tf.placeholder(tf.float32, shape=[None, 28, 28, 1])\n",
    "labels_ph = tf.placeholder(tf.int32, shape=[None, 10])\n",
    "\n",
    "x = tf.layers.conv2d(input_ph, filters=4, kernel_size=5, activation=tf.nn.relu)\n",
    "x = tf.layers.max_pooling2d(x, 2, 2)\n",
    "x = tf.layers.conv2d(x, filters=10, kernel_size=5, activation=tf.nn.relu)\n",
    "x = tf.layers.max_pooling2d(x, 2, 2)\n",
    "x = tf.layers.flatten(x)\n",
    "x = tf.layers.dense(x, 100, activation=tf.nn.relu)\n",
    "logits = tf.layers.dense(x, 10)\n",
    "\n",
    "loss = tf.reduce_mean(tf.losses.softmax_cross_entropy(logits=logits, onehot_labels=labels_ph))\n",
    "optimizer = tf.train.AdamOptimizer(learning_rate=0.01)\n",
    "train = optimizer.minimize(loss)\n",
    "sess = tf.Session()\n",
    "sess.run(tf.global_variables_initializer())"
   ]
  },
  {
   "cell_type": "code",
   "execution_count": 13,
   "metadata": {},
   "outputs": [],
   "source": [
    "# 모든 종류의 attack을 apply 하는 TensorFlow classifer 선언한다\n",
    "\n",
    "tclassifier = TensorFlowClassifier(\n",
    "    clip_values=(min_pixel_value, max_pixel_value),\n",
    "    input_ph=input_ph,\n",
    "    output=logits,\n",
    "    labels_ph=labels_ph,\n",
    "    train=train,\n",
    "    loss=loss,\n",
    "    learning=None,\n",
    "    sess=sess,\n",
    "    preprocessing_defences=[],\n",
    ")"
   ]
  },
  {
   "cell_type": "code",
   "execution_count": 14,
   "metadata": {},
   "outputs": [],
   "source": [
    "# 위에서 선언한 classifer를 앞서 불러온 데이터 셋을 이용하여 학습시킨다\n",
    "\n",
    "tclassifier.fit(x_train, y_train, batch_size=64, nb_epochs=3)"
   ]
  },
  {
   "cell_type": "code",
   "execution_count": 15,
   "metadata": {},
   "outputs": [
    {
     "name": "stdout",
     "output_type": "stream",
     "text": [
      "기존의 데이터를 이용한 tensorflow의 정확도 : 97.91%\n"
     ]
    }
   ],
   "source": [
    "# 공격을 진행하지 않은 데이터를 가지고 \n",
    "# 위에서 학습시킨 classifer를 이용하여 정확도를 분석한다 \n",
    "\n",
    "predictions = tclassifier.predict(x_test)\n",
    "accuracy = np.sum(np.argmax(predictions, axis=1) == np.argmax(y_test, axis=1)) / len(y_test)\n",
    "print(\"기존의 데이터를 이용한 tensorflow의 정확도 : {}%\".format(accuracy * 100))"
   ]
  },
  {
   "cell_type": "code",
   "execution_count": 16,
   "metadata": {},
   "outputs": [],
   "source": [
    "# FGSM 공격을 이용하여 기존의 데이터를 공격한다\n",
    "\n",
    "attack = FastGradientMethod(estimator=tclassifier, eps=0.2)\n",
    "adv_x_test = attack.generate(x=x_test)"
   ]
  },
  {
   "cell_type": "code",
   "execution_count": 17,
   "metadata": {},
   "outputs": [
    {
     "name": "stdout",
     "output_type": "stream",
     "text": [
      "FGSM 에 의해 공격당한 데이터를 이용한 tensorflow의 정확도 : 35.9%\n"
     ]
    }
   ],
   "source": [
    "# 위에서 만들어진 FGSM에 의해 공격된 데이터를 가지고\n",
    "# classifer를 이용하여 정확도를 분석한다\n",
    "\n",
    "predictions = tclassifier.predict(adv_x_test)\n",
    "accuracy = np.sum(np.argmax(predictions, axis=1) == np.argmax(y_test, axis=1)) / len(y_test)\n",
    "print(\"FGSM 에 의해 공격당한 데이터를 이용한 tensorflow의 정확도 : {}%\".format(accuracy * 100))"
   ]
  },
  {
   "cell_type": "code",
   "execution_count": 18,
   "metadata": {},
   "outputs": [],
   "source": [
    "# ART 에서 제공되는 Adversarial Trainer 선언한다\n",
    "\n",
    "trainer = AdversarialTrainer(\n",
    "    tclassifier,\n",
    "    attack,\n",
    "    ratio=1.0\n",
    ")"
   ]
  },
  {
   "cell_type": "code",
   "execution_count": 19,
   "metadata": {},
   "outputs": [
    {
     "data": {
      "application/vnd.jupyter.widget-view+json": {
       "model_id": "cc69d4d070144b82bbe8d15e2b9b32c4",
       "version_major": 2,
       "version_minor": 0
      },
      "text/plain": [
       "Precompute adv samples:   0%|          | 0/1 [00:00<?, ?it/s]"
      ]
     },
     "metadata": {},
     "output_type": "display_data"
    },
    {
     "data": {
      "application/vnd.jupyter.widget-view+json": {
       "model_id": "9942f9ea55a94af1982811d897309961",
       "version_major": 2,
       "version_minor": 0
      },
      "text/plain": [
       "Adversarial training epochs:   0%|          | 0/3 [00:00<?, ?it/s]"
      ]
     },
     "metadata": {},
     "output_type": "display_data"
    }
   ],
   "source": [
    "# 위에서 선언한 Trainer도 같은 데이터 셋을 이용하여 학습시켜준다.\n",
    "\n",
    "trainer.fit(x_train, y_train, batch_size=64, nb_epochs=3)"
   ]
  },
  {
   "cell_type": "code",
   "execution_count": 20,
   "metadata": {},
   "outputs": [
    {
     "name": "stdout",
     "output_type": "stream",
     "text": [
      "FGSM에 의해 공격당한 데이터를 AdversarialTrainer로 다시 학습 시킨후 정확도 : 92.25999999999999%\n"
     ]
    }
   ],
   "source": [
    "# 위에서 만들어진 FGSM에 의해공격된 데이터를 가지고\n",
    "# 학습된 trainer를 이용하여 정확도를 분석한다\n",
    "\n",
    "predictions = trainer.predict(adv_x_test)\n",
    "accuracy = np.sum(np.argmax(predictions, axis=1) == np.argmax(y_test, axis=1)) / len(y_test)\n",
    "print(\"FGSM에 의해 공격당한 데이터를 AdversarialTrainer로 다시 학습 시킨후 정확도 : {}%\".format(accuracy * 100))"
   ]
  },
  {
   "cell_type": "code",
   "execution_count": null,
   "metadata": {},
   "outputs": [],
   "source": []
  }
 ],
 "metadata": {
  "kernelspec": {
   "display_name": "Python 3",
   "language": "python",
   "name": "python3"
  },
  "language_info": {
   "codemirror_mode": {
    "name": "ipython",
    "version": 3
   },
   "file_extension": ".py",
   "mimetype": "text/x-python",
   "name": "python",
   "nbconvert_exporter": "python",
   "pygments_lexer": "ipython3",
   "version": "3.7.7"
  }
 },
 "nbformat": 4,
 "nbformat_minor": 4
}
