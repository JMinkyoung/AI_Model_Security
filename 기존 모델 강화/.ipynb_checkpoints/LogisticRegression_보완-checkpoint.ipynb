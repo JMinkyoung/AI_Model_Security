{
 "cells": [
  {
   "cell_type": "code",
   "execution_count": 5,
   "metadata": {},
   "outputs": [],
   "source": [
    "# MNIST 데이터를 이용한 로지스틱 회귀분석\n",
    "import tensorflow as tf\n",
    "import numpy as np\n",
    "\n",
    "# 0~9까지 숫자의 종류\n",
    "num_classes = 10\n",
    "# 28*28\n",
    "num_features = 784\n",
    "\n",
    "# 로지스틱 회귀분석의 학습 파라미터\n",
    "learning_rate =0.01\n",
    "training_steps = 1000\n",
    "batch_size = 256\n",
    "display_step =100"
   ]
  },
  {
   "cell_type": "code",
   "execution_count": 6,
   "metadata": {},
   "outputs": [],
   "source": [
    "# MNIST 데이터 불러온다\n",
    "from tensorflow.keras.datasets import mnist\n",
    "\n",
    "(x_train, y_train), (x_test, y_test) = mnist.load_data()"
   ]
  },
  {
   "cell_type": "code",
   "execution_count": 7,
   "metadata": {},
   "outputs": [],
   "source": [
    "# float32형태로 변환\n",
    "x_train, x_test = np.array(x_train, np.float32), np.array(x_test,np.float32)\n",
    "\n",
    "# 이미지 포맷을 784픽셀의 1차원 배열로 변환해준다\n",
    "x_train, x_test = x_train.reshape([-1,num_features]), x_test.reshape([-1,num_features])\n",
    "\n",
    "# 255로 나눠서 [0,1] 값으로 표준화 시켜준다\n",
    "x_train ,x_test = x_train / 255., x_test / 255."
   ]
  },
  {
   "cell_type": "code",
   "execution_count": null,
   "metadata": {},
   "outputs": [],
   "source": [
    "'''\n",
    "Sklearn에서 제공되는 Logistic Regression 모델 생성 함수 파라미터\n",
    "\n",
    "penalty : 규제에 사용 된 기준을 지정 (l1, l2, elasticnet, none) – default : l2\n",
    "dual : 이중 또는 초기 공식\n",
    "tol : 정밀도\n",
    "C : 규제 강도\n",
    "fit_intercept : 모형에 상수항 (절편)이 있는가 없는가를 결정하는 인수 (default : True)\n",
    "intercept_scaling : 정규화 효과 정도\n",
    "class_weight : 클래스의 가중치\n",
    "random_state : 난수 seed 설정\n",
    "solver : 최적화 문제에 사용하는 알고리즘\n",
    "max_iter : 계산에 사용할 작업 수\n",
    "multi_class : 다중 분류 시에 (ovr, multinomial, auto)로 설정\n",
    "verbose : 동작 과정에 대한 출력 메시지\n",
    "warm_start : 이전 모델을 초기화로 적합하게 사용할 것인지 여부\n",
    "n_jobs : 병렬 처리 할 때 사용되는 CPU 코어 수\n",
    "l1_ratio : L1 규제의 비율(Elastic-Net 믹싱 파라미터 경우에만 사용)\n",
    "'''"
   ]
  },
  {
   "cell_type": "code",
   "execution_count": 8,
   "metadata": {},
   "outputs": [
    {
     "data": {
      "text/plain": [
       "LogisticRegression(C=10, max_iter=10000, multi_class='multinomial')"
      ]
     },
     "execution_count": 8,
     "metadata": {},
     "output_type": "execute_result"
    }
   ],
   "source": [
    "from sklearn.linear_model import LogisticRegression\n",
    "\n",
    "model = LogisticRegression(C=10, max_iter=10000, multi_class='multinomial', solver='lbfgs')\n",
    "model.fit(x_train, y_train)"
   ]
  },
  {
   "cell_type": "code",
   "execution_count": 14,
   "metadata": {},
   "outputs": [
    {
     "name": "stdout",
     "output_type": "stream",
     "text": [
      "공격 당하기 전의 데이터를 이용한 다항 로지스틱 회귀분석의 정확도\n",
      "94.24166666666667\n"
     ]
    }
   ],
   "source": [
    "print(\"공격 당하기 전의 데이터를 이용한 다항 로지스틱 회귀분석의 정확도\")\n",
    "print(model.score(x_train, y_train)*100)"
   ]
  },
  {
   "cell_type": "code",
   "execution_count": 10,
   "metadata": {},
   "outputs": [
    {
     "data": {
      "application/vnd.jupyter.widget-view+json": {
       "model_id": "c3ab89219df748c68f4bec92535f3ada",
       "version_major": 2,
       "version_minor": 0
      },
      "text/plain": [
       "DeepFool:   0%|          | 0/10000 [00:00<?, ?it/s]"
      ]
     },
     "metadata": {},
     "output_type": "display_data"
    }
   ],
   "source": [
    "# DeepFool 공격 선언해서 위의 데이터 공격시켜준다\n",
    "from art.attacks.evasion import DeepFool\n",
    "from art.estimators.classification.scikitlearn import SklearnClassifier\n",
    "\n",
    "classifier = SklearnClassifier(model=model, clip_values=(0, 1))\n",
    "attack = DeepFool(classifier)\n",
    "x_test_adv = attack.generate(x_test)"
   ]
  },
  {
   "cell_type": "code",
   "execution_count": 15,
   "metadata": {},
   "outputs": [
    {
     "name": "stdout",
     "output_type": "stream",
     "text": [
      "DeepFool 공격 당한 데이터를 이용한 다항 로지스틱 회귀분석의 정확도\n",
      "7.01\n"
     ]
    }
   ],
   "source": [
    "# 로지스틱 회귀분석 모델의 정확도\n",
    "print(\"DeepFool 공격 당한 데이터를 이용한 다항 로지스틱 회귀분석의 정확도\")\n",
    "print(model.score(x_test_adv, y_test)*100)"
   ]
  },
  {
   "cell_type": "code",
   "execution_count": null,
   "metadata": {},
   "outputs": [],
   "source": []
  }
 ],
 "metadata": {
  "kernelspec": {
   "display_name": "Python 3",
   "language": "python",
   "name": "python3"
  },
  "language_info": {
   "codemirror_mode": {
    "name": "ipython",
    "version": 3
   },
   "file_extension": ".py",
   "mimetype": "text/x-python",
   "name": "python",
   "nbconvert_exporter": "python",
   "pygments_lexer": "ipython3",
   "version": "3.7.7"
  }
 },
 "nbformat": 4,
 "nbformat_minor": 4
}
