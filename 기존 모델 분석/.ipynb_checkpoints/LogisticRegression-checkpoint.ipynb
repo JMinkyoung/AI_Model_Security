{
 "cells": [
  {
   "cell_type": "code",
   "execution_count": 1,
   "metadata": {},
   "outputs": [
    {
     "name": "stdout",
     "output_type": "stream",
     "text": [
      "(891, 12)\n",
      "   PassengerId  Survived  Pclass  \\\n",
      "0            1         0       3   \n",
      "1            2         1       1   \n",
      "2            3         1       3   \n",
      "3            4         1       1   \n",
      "4            5         0       3   \n",
      "\n",
      "                                                Name     Sex   Age  SibSp  \\\n",
      "0                            Braund, Mr. Owen Harris    male  22.0      1   \n",
      "1  Cumings, Mrs. John Bradley (Florence Briggs Th...  female  38.0      1   \n",
      "2                             Heikkinen, Miss. Laina  female  26.0      0   \n",
      "3       Futrelle, Mrs. Jacques Heath (Lily May Peel)  female  35.0      1   \n",
      "4                           Allen, Mr. William Henry    male  35.0      0   \n",
      "\n",
      "   Parch            Ticket     Fare Cabin Embarked  \n",
      "0      0         A/5 21171   7.2500   NaN        S  \n",
      "1      0          PC 17599  71.2833   C85        C  \n",
      "2      0  STON/O2. 3101282   7.9250   NaN        S  \n",
      "3      0            113803  53.1000  C123        S  \n",
      "4      0            373450   8.0500   NaN        S  \n"
     ]
    }
   ],
   "source": [
    "# 타이타닉 생존자 데이터 불러오기\n",
    "import pandas as pd\n",
    "passengers = pd.read_csv(\"train.csv\")\n",
    "\n",
    "# 데이터 정보 출력\n",
    "print(passengers.shape)\n",
    "print(passengers.head())"
   ]
  },
  {
   "cell_type": "code",
   "execution_count": 2,
   "metadata": {},
   "outputs": [],
   "source": [
    "# 성별 여자=1, 남자는=0 으로 대치\n",
    "passengers['Sex'] = passengers['Sex'].map({'female':1,'male':0})\n",
    "\n",
    "# 나이 빈칸이 있을 경우에는 평균으로 채워넣는다\n",
    "passengers['Age'].fillna(value=passengers['Age'].mean(), inplace=True)"
   ]
  },
  {
   "cell_type": "code",
   "execution_count": 3,
   "metadata": {},
   "outputs": [],
   "source": [
    "# 승객들의 class 따로 설정해준다\n",
    "passengers['FirstClass'] = passengers['Pclass'].apply(lambda x: 1 if x == 1 else 0)\n",
    "passengers['SecondClass'] = passengers['Pclass'].apply(lambda x: 1 if x == 2 else 0)"
   ]
  },
  {
   "cell_type": "code",
   "execution_count": 4,
   "metadata": {},
   "outputs": [],
   "source": [
    "# 생존 결과를 종속 변수로 설정해준다\n",
    "features = passengers[['Sex', 'Age', 'FirstClass', 'SecondClass']]\n",
    "survival = passengers['Survived']"
   ]
  },
  {
   "cell_type": "code",
   "execution_count": 5,
   "metadata": {},
   "outputs": [],
   "source": [
    "# train 셋과 test 셋 나눠준다\n",
    "from sklearn.model_selection import train_test_split\n",
    "train_features, test_features, train_labels, test_labels = train_test_split(features, survival)"
   ]
  },
  {
   "cell_type": "code",
   "execution_count": 6,
   "metadata": {},
   "outputs": [],
   "source": [
    "# 데이터를 정규 분포로 만들어준다 \n",
    "from sklearn.preprocessing import StandardScaler\n",
    "scaler = StandardScaler()\n",
    "train_features = scaler.fit_transform(train_features)\n",
    "test_features = scaler.transform(test_features)"
   ]
  },
  {
   "cell_type": "code",
   "execution_count": 7,
   "metadata": {},
   "outputs": [
    {
     "data": {
      "text/plain": [
       "LogisticRegression()"
      ]
     },
     "execution_count": 7,
     "metadata": {},
     "output_type": "execute_result"
    }
   ],
   "source": [
    "# 로지스틱 회귀분석 모델을 선언하고 학습시킨다\n",
    "from sklearn.linear_model import LogisticRegression\n",
    "model = LogisticRegression()\n",
    "model.fit(train_features, train_labels)"
   ]
  },
  {
   "cell_type": "code",
   "execution_count": 8,
   "metadata": {},
   "outputs": [
    {
     "name": "stdout",
     "output_type": "stream",
     "text": [
      "공격 당하기 전의 데이터를 이용한 로지스틱 회귀분석의 정확도\n",
      "80.688622754491\n"
     ]
    }
   ],
   "source": [
    "# 로지스틱 회귀분석 모델의 정확도\n",
    "print(\"공격 당하기 전의 데이터를 이용한 로지스틱 회귀분석의 정확도\")\n",
    "print(model.score(train_features, train_labels)*100)"
   ]
  },
  {
   "cell_type": "code",
   "execution_count": 9,
   "metadata": {},
   "outputs": [
    {
     "data": {
      "application/vnd.jupyter.widget-view+json": {
       "model_id": "c82b66484502448680071627c76fadb9",
       "version_major": 2,
       "version_minor": 0
      },
      "text/plain": [
       "DeepFool:   0%|          | 0/223 [00:00<?, ?it/s]"
      ]
     },
     "metadata": {},
     "output_type": "display_data"
    }
   ],
   "source": [
    "# DeepFool 공격 선언해서 위의 데이터 공격시켜준다\n",
    "\n",
    "from art.attacks.evasion import DeepFool\n",
    "from art.estimators.classification.scikitlearn import SklearnClassifier\n",
    "\n",
    "classifier = SklearnClassifier(model=model, clip_values=(0, 1))\n",
    "attack = DeepFool(classifier)\n",
    "x_test_adv = attack.generate(test_features)"
   ]
  },
  {
   "cell_type": "code",
   "execution_count": 12,
   "metadata": {
    "scrolled": true
   },
   "outputs": [
    {
     "name": "stdout",
     "output_type": "stream",
     "text": [
      "DeepFool 공격 당한 데이터를 이용한 로지스틱 회귀분석의 정확도\n",
      "22.421524663677133\n"
     ]
    }
   ],
   "source": [
    "# 로지스틱 회귀분석 모델의 정확도\n",
    "print(\"DeepFool 공격 당한 데이터를 이용한 로지스틱 회귀분석의 정확도\")\n",
    "print(model.score(x_test_adv, test_labels)*100)"
   ]
  },
  {
   "cell_type": "code",
   "execution_count": 13,
   "metadata": {},
   "outputs": [],
   "source": [
    "# 유방암 데이터를 이용하여 로지스틱 회귀 분석한다\n",
    "\n",
    "from sklearn.model_selection import train_test_split\n",
    "from sklearn.datasets import load_breast_cancer\n",
    "cancer = load_breast_cancer()\n",
    "X_train, X_test, y_train, y_test = train_test_split(cancer.data, cancer.target, random_state=66)"
   ]
  },
  {
   "cell_type": "code",
   "execution_count": 14,
   "metadata": {},
   "outputs": [
    {
     "name": "stdout",
     "output_type": "stream",
     "text": [
      "공격 당하기 전의 데이터를 이용한 로지스틱 회귀분석의 정확도\n",
      "95.77464788732394\n"
     ]
    }
   ],
   "source": [
    "from sklearn.linear_model import LogisticRegression\n",
    "\n",
    "model = LogisticRegression(C=1, max_iter=10000)\n",
    "model.fit(X_train, y_train)\n",
    "\n",
    "print(\"공격 당하기 전의 데이터를 이용한 로지스틱 회귀분석의 정확도\")\n",
    "print(model.score(X_train, y_train)*100)"
   ]
  },
  {
   "cell_type": "code",
   "execution_count": 15,
   "metadata": {},
   "outputs": [
    {
     "data": {
      "application/vnd.jupyter.widget-view+json": {
       "model_id": "99ab4ca533d249ecbec60de1f6937a1d",
       "version_major": 2,
       "version_minor": 0
      },
      "text/plain": [
       "DeepFool:   0%|          | 0/143 [00:00<?, ?it/s]"
      ]
     },
     "metadata": {},
     "output_type": "display_data"
    }
   ],
   "source": [
    "# DeepFool 공격 선언해서 위의 데이터 공격시켜준다\n",
    "from art.attacks.evasion import DeepFool\n",
    "from art.estimators.classification.scikitlearn import SklearnClassifier\n",
    "\n",
    "classifier = SklearnClassifier(model=model, clip_values=(0, 1))\n",
    "attack = DeepFool(classifier)\n",
    "x_test_adv = attack.generate(X_test)"
   ]
  },
  {
   "cell_type": "code",
   "execution_count": 17,
   "metadata": {},
   "outputs": [
    {
     "name": "stdout",
     "output_type": "stream",
     "text": [
      "DeepFool 공격 당한 데이터를 이용한 로지스틱 회귀분석의 정확도\n",
      "64.33566433566433\n"
     ]
    }
   ],
   "source": [
    "# 로지스틱 회귀분석 모델의 정확도\n",
    "print(\"DeepFool 공격 당한 데이터를 이용한 로지스틱 회귀분석의 정확도\")\n",
    "print(model.score(x_test_adv, y_test)*100)"
   ]
  },
  {
   "cell_type": "code",
   "execution_count": 19,
   "metadata": {},
   "outputs": [],
   "source": [
    "# MNIST 데이터를 이용한 로지스틱 회귀분석\n",
    "import tensorflow as tf\n",
    "import numpy as np\n",
    "\n",
    "# 0~9까지 숫자의 종류\n",
    "num_classes = 10\n",
    "# 28*28\n",
    "num_features = 784\n",
    "\n",
    "# 로지스틱 회귀분석의 학습 파라미터\n",
    "learning_rate =0.01\n",
    "training_steps = 1000\n",
    "batch_size = 256\n",
    "display_step =100"
   ]
  },
  {
   "cell_type": "code",
   "execution_count": 20,
   "metadata": {},
   "outputs": [],
   "source": [
    "# MNIST 데이터 불러온다\n",
    "from tensorflow.keras.datasets import mnist\n",
    "\n",
    "(x_train, y_train), (x_test, y_test) = mnist.load_data()"
   ]
  },
  {
   "cell_type": "code",
   "execution_count": 21,
   "metadata": {},
   "outputs": [],
   "source": [
    "# float32형태로 변환\n",
    "x_train, x_test = np.array(x_train, np.float32), np.array(x_test,np.float32)\n",
    "\n",
    "# 이미지 포맷을 784픽셀의 1차원 배열로 변환해준다\n",
    "x_train, x_test = x_train.reshape([-1,num_features]), x_test.reshape([-1,num_features])\n",
    "\n",
    "# 255로 나눠서 [0,1] 값으로 표준화 시켜준다\n",
    "x_train ,x_test = x_train / 255., x_test / 255."
   ]
  },
  {
   "cell_type": "code",
   "execution_count": 22,
   "metadata": {},
   "outputs": [],
   "source": [
    "# 데이터 셔플링 및 배치화\n",
    "train_data = tf.data.Dataset.from_tensor_slices((x_train,y_train))\n",
    "train_data = train_data.repeat().shuffle(5000).batch(batch_size).prefetch(1)"
   ]
  },
  {
   "cell_type": "code",
   "execution_count": 23,
   "metadata": {},
   "outputs": [
    {
     "data": {
      "text/plain": [
       "LogisticRegression(C=1, max_iter=10000)"
      ]
     },
     "execution_count": 23,
     "metadata": {},
     "output_type": "execute_result"
    }
   ],
   "source": [
    "from sklearn.linear_model import LogisticRegression\n",
    "\n",
    "model = LogisticRegression(C=1, max_iter=10000)\n",
    "model.fit(x_train, y_train)"
   ]
  },
  {
   "cell_type": "code",
   "execution_count": 24,
   "metadata": {},
   "outputs": [
    {
     "name": "stdout",
     "output_type": "stream",
     "text": [
      "공격 당하기 전의 데이터를 이용한 로지스틱 회귀분석의 정확도\n",
      "93.93\n"
     ]
    }
   ],
   "source": [
    "print(\"공격 당하기 전의 데이터를 이용한 로지스틱 회귀분석의 정확도\")\n",
    "print(model.score(x_train, y_train)*100)"
   ]
  },
  {
   "cell_type": "code",
   "execution_count": 25,
   "metadata": {},
   "outputs": [
    {
     "data": {
      "application/vnd.jupyter.widget-view+json": {
       "model_id": "d690d6c312ef473a8242d691cf929bbd",
       "version_major": 2,
       "version_minor": 0
      },
      "text/plain": [
       "DeepFool:   0%|          | 0/10000 [00:00<?, ?it/s]"
      ]
     },
     "metadata": {},
     "output_type": "display_data"
    }
   ],
   "source": [
    "# DeepFool 공격 선언해서 위의 데이터 공격시켜준다\n",
    "from art.attacks.evasion import DeepFool\n",
    "from art.estimators.classification.scikitlearn import SklearnClassifier\n",
    "\n",
    "classifier = SklearnClassifier(model=model, clip_values=(0, 1))\n",
    "attack = DeepFool(classifier)\n",
    "x_test_adv = attack.generate(x_test)"
   ]
  },
  {
   "cell_type": "code",
   "execution_count": 26,
   "metadata": {},
   "outputs": [
    {
     "name": "stdout",
     "output_type": "stream",
     "text": [
      "DeepFool 공격 당한 데이터를 이용한 로지스틱 회귀분석의 정확도\n",
      "5.72\n"
     ]
    }
   ],
   "source": [
    "# 로지스틱 회귀분석 모델의 정확도\n",
    "print(\"DeepFool 공격 당한 데이터를 이용한 로지스틱 회귀분석의 정확도\")\n",
    "print(model.score(x_test_adv, y_test)*100)"
   ]
  },
  {
   "cell_type": "code",
   "execution_count": 29,
   "metadata": {},
   "outputs": [],
   "source": [
    "####################여기서부터 로지스틱 회귀 분석 모델 직접 구현하는 부분####################\n",
    "\n",
    "# Wegiht Matrix 생성을 위해 784 *10개의 weights 필요하다\n",
    "W = tf.Variable(tf.ones([num_features, num_classes]),name=\"weight\")\n",
    "b = tf.Variable(tf.zeros([num_classes]),name=\"bias\")"
   ]
  },
  {
   "cell_type": "code",
   "execution_count": 30,
   "metadata": {},
   "outputs": [],
   "source": [
    "# 로지스틱 회귀식 (Wx+b) 정의한다\n",
    "def logistic_regression(x):\n",
    "    return tf.nn.softmax(tf.matmul(x,W)+b)"
   ]
  },
  {
   "cell_type": "code",
   "execution_count": 31,
   "metadata": {},
   "outputs": [],
   "source": [
    "# Cross Entropy 손실 함수 정의한다\n",
    "def cross_entropy(y_pred, y_true):\n",
    "    # 텍스트를 유의한 벡터로 변환\n",
    "    y_true = tf.one_hot(y_true,depth=num_classes)\n",
    "    y_pred = tf.clip_by_value(y_pred,1e-9,1.)\n",
    "    return tf.reduce_mean(-tf.reduce_sum(y_true*tf.math.log(y_pred)))"
   ]
  },
  {
   "cell_type": "code",
   "execution_count": 32,
   "metadata": {},
   "outputs": [],
   "source": [
    "# 정확도 척도 정의한다\n",
    "def accuracy(y_pred, y_true):\n",
    "    # 예측 정확도는 예측 벡터에서 가장 높은 스코어 인덱스\n",
    "    correct_prediction = tf.equal(tf.argmax(y_pred,1),tf.cast(y_true,tf.int64))\n",
    "    return tf.reduce_mean(tf.cast(correct_prediction,tf.float32))"
   ]
  },
  {
   "cell_type": "code",
   "execution_count": 33,
   "metadata": {},
   "outputs": [],
   "source": [
    "# SGD(확률적경사하강법) 알고리즘\n",
    "optimizer = tf.optimizers.SGD(learning_rate)"
   ]
  },
  {
   "cell_type": "code",
   "execution_count": 34,
   "metadata": {},
   "outputs": [],
   "source": [
    "# 학습 알고리즘 최적화 과정 정의한다\n",
    "def run_optimization(x,y):\n",
    "    with tf.GradientTape() as g:\n",
    "        pred = logistic_regression(x)\n",
    "        loss = cross_entropy(pred,y)\n",
    "        \n",
    "    gradients = g.gradient(loss,[W,b])\n",
    "    optimizer.apply_gradients(zip(gradients,[W,b]))"
   ]
  },
  {
   "cell_type": "code",
   "execution_count": 35,
   "metadata": {},
   "outputs": [
    {
     "name": "stdout",
     "output_type": "stream",
     "text": [
      "step: 100, loss: 289.502747, accuracy: 0.820312\n",
      "step: 200, loss: 51.137054, accuracy: 0.917969\n",
      "step: 300, loss: 63.734474, accuracy: 0.933594\n",
      "step: 400, loss: 61.370857, accuracy: 0.917969\n",
      "step: 500, loss: 122.075119, accuracy: 0.898438\n",
      "step: 600, loss: 49.760822, accuracy: 0.945312\n",
      "step: 700, loss: 62.496082, accuracy: 0.925781\n",
      "step: 800, loss: 108.018204, accuracy: 0.902344\n",
      "step: 900, loss: 168.788223, accuracy: 0.839844\n",
      "step: 1000, loss: 41.578003, accuracy: 0.941406\n"
     ]
    }
   ],
   "source": [
    "# 주어진 스텝에 맞춰서 학습을 시작한다\n",
    "for step, (batch_x, batch_y) in enumerate(train_data.take(training_steps),1):\n",
    "    run_optimization(batch_x, batch_y)\n",
    "    \n",
    "    if step % display_step ==0:\n",
    "        pred = logistic_regression(batch_x)\n",
    "        loss = cross_entropy(pred, batch_y)\n",
    "        acc = accuracy(pred, batch_y)\n",
    "        print(\"step: %i, loss: %f, accuracy: %f\" %(step,loss,acc))"
   ]
  },
  {
   "cell_type": "code",
   "execution_count": 41,
   "metadata": {},
   "outputs": [
    {
     "name": "stdout",
     "output_type": "stream",
     "text": [
      "공격 당하기 전의 데이터를 이용한 로지스틱 회귀분석의 정확도: 0.908400\n"
     ]
    }
   ],
   "source": [
    "# 테스트 셋을 이용하여 위에서 훈련된 모델의 정확도 측정\n",
    "pred = logistic_regression(x_test)\n",
    "print(\"공격 당하기 전의 데이터를 이용한 로지스틱 회귀분석의 정확도: %f\" %accuracy(pred,y_test))"
   ]
  },
  {
   "cell_type": "code",
   "execution_count": 42,
   "metadata": {},
   "outputs": [
    {
     "name": "stdout",
     "output_type": "stream",
     "text": [
      "DeepFool 공격 당한 데이터를 이용한 로지스틱 회귀분석의 정확도: 0.891400\n"
     ]
    }
   ],
   "source": [
    "# 공격된 테스트 셋을 이용하여 위에서 훈련된 모델의 정확도 측정\n",
    "pred = logistic_regression(x_test_adv)\n",
    "print(\"DeepFool 공격 당한 데이터를 이용한 로지스틱 회귀분석의 정확도: %f\" %accuracy(pred,y_test))"
   ]
  },
  {
   "cell_type": "code",
   "execution_count": null,
   "metadata": {},
   "outputs": [],
   "source": []
  }
 ],
 "metadata": {
  "kernelspec": {
   "display_name": "Python 3",
   "language": "python",
   "name": "python3"
  },
  "language_info": {
   "codemirror_mode": {
    "name": "ipython",
    "version": 3
   },
   "file_extension": ".py",
   "mimetype": "text/x-python",
   "name": "python",
   "nbconvert_exporter": "python",
   "pygments_lexer": "ipython3",
   "version": "3.7.7"
  }
 },
 "nbformat": 4,
 "nbformat_minor": 4
}
