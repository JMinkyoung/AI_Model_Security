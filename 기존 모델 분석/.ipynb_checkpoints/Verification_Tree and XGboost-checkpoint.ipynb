{
 "cells": [
  {
   "cell_type": "code",
   "execution_count": 4,
   "metadata": {},
   "outputs": [],
   "source": [
    "from xgboost import XGBClassifier\n",
    "import numpy as np\n",
    "from sklearn.ensemble import ExtraTreesClassifier, RandomForestClassifier, GradientBoostingClassifier\n",
    "\n",
    "from art.estimators.classification import XGBoostClassifier, LightGBMClassifier, SklearnClassifier\n",
    "from art.utils import load_dataset\n",
    "from art.metrics import RobustnessVerificationTreeModelsCliqueMethod\n",
    "\n",
    "import warnings\n",
    "warnings.filterwarnings('ignore')"
   ]
  },
  {
   "cell_type": "code",
   "execution_count": 5,
   "metadata": {},
   "outputs": [],
   "source": [
    "NB_TRAIN = 100\n",
    "NB_TEST = 100\n",
    "\n",
    "(x_train, y_train), (x_test, y_test), _, _ = load_dataset('mnist')\n",
    "\n",
    "n_classes = 10\n",
    "n_features = 28 * 28\n",
    "n_train = x_train.shape[0]\n",
    "n_test = x_test.shape[0]\n",
    "x_train = x_train.reshape((n_train, n_features))\n",
    "x_test = x_test.reshape((n_test, n_features))\n",
    "\n",
    "x_train = x_train[:NB_TRAIN]\n",
    "y_train = y_train[:NB_TRAIN]\n",
    "x_test = x_test[:NB_TEST]\n",
    "y_test = y_test[:NB_TEST]"
   ]
  },
  {
   "cell_type": "code",
   "execution_count": 6,
   "metadata": {},
   "outputs": [
    {
     "data": {
      "application/vnd.jupyter.widget-view+json": {
       "model_id": "9db4026c6d164c689dbc68cee28d0ae6",
       "version_major": 2,
       "version_minor": 0
      },
      "text/plain": [
       "Decision tree verification:   0%|          | 0/100 [00:00<?, ?it/s]"
      ]
     },
     "metadata": {},
     "output_type": "display_data"
    },
    {
     "name": "stdout",
     "output_type": "stream",
     "text": [
      "Average bound: 0.03186914062500001\n",
      "Verified error at eps: 0.99\n"
     ]
    }
   ],
   "source": [
    "model = XGBClassifier(n_estimators=4, max_depth=6)\n",
    "model.fit(x_train, np.argmax(y_train, axis=1))\n",
    "\n",
    "classifier = XGBoostClassifier(model=model, nb_features=n_features, nb_classes=n_classes)\n",
    "\n",
    "rt = RobustnessVerificationTreeModelsCliqueMethod(classifier=classifier)\n",
    "average_bound, verified_error = rt.verify(x=x_test, y=y_test, eps_init=0.3, nb_search_steps=10, max_clique=2,\n",
    "                                          max_level=2)\n",
    "\n",
    "print('Average bound:', average_bound)\n",
    "print('Verified error at eps:', verified_error)"
   ]
  },
  {
   "cell_type": "code",
   "execution_count": 7,
   "metadata": {},
   "outputs": [
    {
     "data": {
      "application/vnd.jupyter.widget-view+json": {
       "model_id": "3923c665367244e48879d20882a2aeeb",
       "version_major": 2,
       "version_minor": 0
      },
      "text/plain": [
       "Decision tree verification:   0%|          | 0/100 [00:00<?, ?it/s]"
      ]
     },
     "metadata": {},
     "output_type": "display_data"
    },
    {
     "name": "stdout",
     "output_type": "stream",
     "text": [
      "Average bound: 0.016529296875\n",
      "Verified error at eps: 1.0\n"
     ]
    }
   ],
   "source": [
    "model = RandomForestClassifier(n_estimators=4, max_depth=6)\n",
    "model.fit(x_train, np.argmax(y_train, axis=1))\n",
    "\n",
    "classifier = SklearnClassifier(model=model)\n",
    "\n",
    "rt = RobustnessVerificationTreeModelsCliqueMethod(classifier=classifier)\n",
    "average_bound, verified_error = rt.verify(x=x_test, y=y_test, eps_init=0.3, nb_search_steps=10, max_clique=2, \n",
    "                                          max_level=2)\n",
    "\n",
    "print('Average bound:', average_bound)\n",
    "print('Verified error at eps:', verified_error)"
   ]
  },
  {
   "cell_type": "code",
   "execution_count": 8,
   "metadata": {},
   "outputs": [
    {
     "data": {
      "application/vnd.jupyter.widget-view+json": {
       "model_id": "24e625c0b2fb42fab0060bb8382cb4c1",
       "version_major": 2,
       "version_minor": 0
      },
      "text/plain": [
       "Decision tree verification:   0%|          | 0/100 [00:00<?, ?it/s]"
      ]
     },
     "metadata": {},
     "output_type": "display_data"
    },
    {
     "name": "stdout",
     "output_type": "stream",
     "text": [
      "Average bound: 0.05041992187499998\n",
      "Verified error at eps: 0.99\n"
     ]
    }
   ],
   "source": [
    "model = ExtraTreesClassifier(n_estimators=4, max_depth=6)\n",
    "model.fit(x_train, np.argmax(y_train, axis=1))\n",
    "\n",
    "classifier = SklearnClassifier(model=model)\n",
    "\n",
    "rt = RobustnessVerificationTreeModelsCliqueMethod(classifier=classifier)\n",
    "average_bound, verified_error = rt.verify(x=x_test, y=y_test, eps_init=0.3, nb_search_steps=10, max_clique=2, \n",
    "                                          max_level=2)\n",
    "\n",
    "print('Average bound:', average_bound)\n",
    "print('Verified error at eps:', verified_error)"
   ]
  },
  {
   "cell_type": "code",
   "execution_count": null,
   "metadata": {},
   "outputs": [],
   "source": []
  }
 ],
 "metadata": {
  "kernelspec": {
   "display_name": "Python 3",
   "language": "python",
   "name": "python3"
  },
  "language_info": {
   "codemirror_mode": {
    "name": "ipython",
    "version": 3
   },
   "file_extension": ".py",
   "mimetype": "text/x-python",
   "name": "python",
   "nbconvert_exporter": "python",
   "pygments_lexer": "ipython3",
   "version": "3.7.7"
  }
 },
 "nbformat": 4,
 "nbformat_minor": 4
}
