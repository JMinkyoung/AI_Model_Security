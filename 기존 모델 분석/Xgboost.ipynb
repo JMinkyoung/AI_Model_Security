{
 "cells": [
  {
   "cell_type": "code",
   "execution_count": 1,
   "metadata": {},
   "outputs": [],
   "source": [
    "import xgboost as xgb\n",
    "import numpy as np\n",
    "\n",
    "from art.attacks.evasion import ZooAttack\n",
    "from art.estimators.classification import XGBoostClassifier\n",
    "from art.utils import load_mnist"
   ]
  },
  {
   "cell_type": "code",
   "execution_count": 2,
   "metadata": {},
   "outputs": [],
   "source": [
    "# MNIST 데이터 셋을 불러온다\n",
    "\n",
    "(x_train, y_train), (x_test, y_test), min_pixel_value, max_pixel_value = load_mnist()"
   ]
  },
  {
   "cell_type": "code",
   "execution_count": 3,
   "metadata": {},
   "outputs": [],
   "source": [
    "# 데이터를 전처리 한다\n",
    "\n",
    "x_test = x_test[0:100]\n",
    "y_test = y_test[0:100]\n",
    "\n",
    "nb_samples_train = x_train.shape[0]\n",
    "nb_samples_test = x_test.shape[0]\n",
    "x_train = x_train.reshape((nb_samples_train, 28 * 28))\n",
    "x_test = x_test.reshape((nb_samples_test, 28 * 28))"
   ]
  },
  {
   "cell_type": "code",
   "execution_count": 4,
   "metadata": {},
   "outputs": [
    {
     "name": "stdout",
     "output_type": "stream",
     "text": [
      "[02:32:07] WARNING: C:\\Users\\Administrator\\workspace\\xgboost-win64_release_1.2.0\\src\\learner.cc:516: \n",
      "Parameters: { metric } might not be used.\n",
      "\n",
      "  This may not be accurate due to some parameters are only used in language bindings but\n",
      "  passed down to XGBoost core.  Or some parameters are not used but slip through this\n",
      "  verification. Please open an issue if you find above cases.\n",
      "\n",
      "\n",
      "[0]\ttest-merror:0.10000\ttrain-merror:0.13210\n",
      "[1]\ttest-merror:0.07000\ttrain-merror:0.09192\n"
     ]
    }
   ],
   "source": [
    "# XGboost를 이용하여 모델을 생성하고 학습시킨다\n",
    "\n",
    "params = {\"objective\": \"multi:softprob\", \"metric\": \"accuracy\", \"num_class\": 10}\n",
    "dtrain = xgb.DMatrix(x_train, label=np.argmax(y_train, axis=1))\n",
    "dtest = xgb.DMatrix(x_test, label=np.argmax(y_test, axis=1))\n",
    "evals = [(dtest, \"test\"), (dtrain, \"train\")]\n",
    "model = xgb.train(params=params, dtrain=dtrain, num_boost_round=2, evals=evals)"
   ]
  },
  {
   "cell_type": "code",
   "execution_count": 5,
   "metadata": {},
   "outputs": [],
   "source": [
    "# 공격을 받아들이기 위한 ART Classifier를 생성한다\n",
    "\n",
    "classifier = XGBoostClassifier(\n",
    "    model=model, clip_values=(min_pixel_value, max_pixel_value), nb_features=28 * 28, nb_classes=10\n",
    ")"
   ]
  },
  {
   "cell_type": "code",
   "execution_count": 6,
   "metadata": {},
   "outputs": [
    {
     "name": "stdout",
     "output_type": "stream",
     "text": [
      "기존의 데이터를 이용한 Xgboost 정확도 : 93.0%\n"
     ]
    }
   ],
   "source": [
    "# 공격을 진행하지 않은 데이터를 가지고 \n",
    "# 위에서 학습시킨 classifer를 이용하여 정확도를 분석한다 \n",
    "\n",
    "predictions = classifier.predict(x_test)\n",
    "accuracy = np.sum(np.argmax(predictions, axis=1) == np.argmax(y_test, axis=1)) / len(y_test)\n",
    "print(\"기존의 데이터를 이용한 Xgboost 정확도 : {}%\".format(accuracy * 100))"
   ]
  },
  {
   "cell_type": "code",
   "execution_count": 7,
   "metadata": {},
   "outputs": [
    {
     "data": {
      "application/vnd.jupyter.widget-view+json": {
       "model_id": "5e4f20bd2ed3474a82970fbd7e7f26e6",
       "version_major": 2,
       "version_minor": 0
      },
      "text/plain": [
       "ZOO:   0%|          | 0/100 [00:00<?, ?it/s]"
      ]
     },
     "metadata": {},
     "output_type": "display_data"
    }
   ],
   "source": [
    "# ZOO 공격을 선언하고 해당 공격으로 데이터를 공격한다\n",
    "\n",
    "attack = ZooAttack(\n",
    "    classifier=classifier,\n",
    "    confidence=0.0,\n",
    "    targeted=False,\n",
    "    learning_rate=1e-1,\n",
    "    max_iter=200,\n",
    "    binary_search_steps=10,\n",
    "    initial_const=1e-3,\n",
    "    abort_early=True,\n",
    "    use_resize=False,\n",
    "    use_importance=False,\n",
    "    nb_parallel=5,\n",
    "    batch_size=1,\n",
    "    variable_h=0.01,\n",
    ")\n",
    "x_test_adv = attack.generate(x=x_test, y=y_test)"
   ]
  },
  {
   "cell_type": "code",
   "execution_count": 8,
   "metadata": {},
   "outputs": [
    {
     "name": "stdout",
     "output_type": "stream",
     "text": [
      "ZOO 에 의해 공격당한 데이터를 이용한 Xgboost 정확도 : 6.0%\n"
     ]
    }
   ],
   "source": [
    "# 위에서 만들어진 ZOO 공격 의해 공격된 데이터를 가지고\n",
    "# classifer를 이용하여 정확도를 분석한다\n",
    "\n",
    "predictions = classifier.predict(x_test_adv)\n",
    "accuracy = np.sum(np.argmax(predictions, axis=1) == np.argmax(y_test, axis=1)) / len(y_test)\n",
    "print(\"ZOO 에 의해 공격당한 데이터를 이용한 Xgboost 정확도 : {}%\".format(accuracy * 100))"
   ]
  },
  {
   "cell_type": "code",
   "execution_count": null,
   "metadata": {},
   "outputs": [],
   "source": []
  }
 ],
 "metadata": {
  "kernelspec": {
   "display_name": "Python 3",
   "language": "python",
   "name": "python3"
  },
  "language_info": {
   "codemirror_mode": {
    "name": "ipython",
    "version": 3
   },
   "file_extension": ".py",
   "mimetype": "text/x-python",
   "name": "python",
   "nbconvert_exporter": "python",
   "pygments_lexer": "ipython3",
   "version": "3.7.7"
  }
 },
 "nbformat": 4,
 "nbformat_minor": 4
}
