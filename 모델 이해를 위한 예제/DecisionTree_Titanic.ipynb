{
 "cells": [
  {
   "cell_type": "code",
   "execution_count": 1,
   "metadata": {},
   "outputs": [
    {
     "name": "stdout",
     "output_type": "stream",
     "text": [
      "<class 'pandas.core.frame.DataFrame'>\n",
      "RangeIndex: 1309 entries, 0 to 1308\n",
      "Data columns (total 14 columns):\n",
      " #   Column     Non-Null Count  Dtype  \n",
      "---  ------     --------------  -----  \n",
      " 0   pclass     1309 non-null   int64  \n",
      " 1   survived   1309 non-null   int64  \n",
      " 2   name       1309 non-null   object \n",
      " 3   sex        1309 non-null   object \n",
      " 4   age        1046 non-null   float64\n",
      " 5   sibsp      1309 non-null   int64  \n",
      " 6   parch      1309 non-null   int64  \n",
      " 7   ticket     1309 non-null   object \n",
      " 8   fare       1308 non-null   float64\n",
      " 9   cabin      295 non-null    object \n",
      " 10  embarked   1307 non-null   object \n",
      " 11  boat       486 non-null    object \n",
      " 12  body       121 non-null    float64\n",
      " 13  home.dest  745 non-null    object \n",
      "dtypes: float64(3), int64(4), object(7)\n",
      "memory usage: 143.3+ KB\n"
     ]
    }
   ],
   "source": [
    "import pandas as pd\n",
    "import numpy as np\n",
    "import matplotlib.pyplot as plt\n",
    "%matplotlib inline\n",
    "\n",
    "raw_data = pd.read_excel('titanic.xls')\n",
    "raw_data.info()"
   ]
  },
  {
   "cell_type": "code",
   "execution_count": 2,
   "metadata": {},
   "outputs": [
    {
     "name": "stdout",
     "output_type": "stream",
     "text": [
      "<class 'pandas.core.frame.DataFrame'>\n",
      "Int64Index: 1045 entries, 0 to 1308\n",
      "Data columns (total 14 columns):\n",
      " #   Column     Non-Null Count  Dtype  \n",
      "---  ------     --------------  -----  \n",
      " 0   pclass     1045 non-null   float64\n",
      " 1   survived   1045 non-null   int32  \n",
      " 2   name       1045 non-null   object \n",
      " 3   sex        1045 non-null   float64\n",
      " 4   age        1045 non-null   float64\n",
      " 5   sibsp      1045 non-null   float64\n",
      " 6   parch      1045 non-null   float64\n",
      " 7   ticket     1045 non-null   object \n",
      " 8   fare       1045 non-null   float64\n",
      " 9   cabin      272 non-null    object \n",
      " 10  embarked   1043 non-null   object \n",
      " 11  boat       417 non-null    object \n",
      " 12  body       119 non-null    float64\n",
      " 13  home.dest  685 non-null    object \n",
      "dtypes: float64(7), int32(1), object(6)\n",
      "memory usage: 118.4+ KB\n"
     ]
    }
   ],
   "source": [
    "tmp = []\n",
    "for each in raw_data['sex']:\n",
    "    if each == 'female':\n",
    "        tmp.append(1)\n",
    "    elif each == 'male':\n",
    "        tmp.append(0)\n",
    "    else:\n",
    "        tmp.append(np.nan)\n",
    "\n",
    "raw_data['sex'] = tmp\n",
    "\n",
    "raw_data['survived'] = raw_data['survived'].astype('int')\n",
    "raw_data['pclass'] = raw_data['pclass'].astype('float')\n",
    "raw_data['sex'] = raw_data['sex'].astype('float')\n",
    "raw_data['sibsp'] = raw_data['sibsp'].astype('float')\n",
    "raw_data['parch'] = raw_data['parch'].astype('float')\n",
    "raw_data['fare'] = raw_data['fare'].astype('float')\n",
    "\n",
    "raw_data = raw_data[raw_data['age'].notnull()]\n",
    "raw_data = raw_data[raw_data['sibsp'].notnull()]\n",
    "raw_data = raw_data[raw_data['parch'].notnull()]\n",
    "raw_data = raw_data[raw_data['fare'].notnull()]\n",
    "\n",
    "raw_data.info()"
   ]
  },
  {
   "cell_type": "code",
   "execution_count": 3,
   "metadata": {},
   "outputs": [
    {
     "data": {
      "text/html": [
       "<div>\n",
       "<style scoped>\n",
       "    .dataframe tbody tr th:only-of-type {\n",
       "        vertical-align: middle;\n",
       "    }\n",
       "\n",
       "    .dataframe tbody tr th {\n",
       "        vertical-align: top;\n",
       "    }\n",
       "\n",
       "    .dataframe thead th {\n",
       "        text-align: right;\n",
       "    }\n",
       "</style>\n",
       "<table border=\"1\" class=\"dataframe\">\n",
       "  <thead>\n",
       "    <tr style=\"text-align: right;\">\n",
       "      <th></th>\n",
       "      <th>pclass</th>\n",
       "      <th>sex</th>\n",
       "      <th>age</th>\n",
       "      <th>sibsp</th>\n",
       "      <th>parch</th>\n",
       "      <th>fare</th>\n",
       "    </tr>\n",
       "  </thead>\n",
       "  <tbody>\n",
       "    <tr>\n",
       "      <th>0</th>\n",
       "      <td>1.0</td>\n",
       "      <td>1.0</td>\n",
       "      <td>29.0000</td>\n",
       "      <td>0.0</td>\n",
       "      <td>0.0</td>\n",
       "      <td>211.3375</td>\n",
       "    </tr>\n",
       "    <tr>\n",
       "      <th>1</th>\n",
       "      <td>1.0</td>\n",
       "      <td>0.0</td>\n",
       "      <td>0.9167</td>\n",
       "      <td>1.0</td>\n",
       "      <td>2.0</td>\n",
       "      <td>151.5500</td>\n",
       "    </tr>\n",
       "    <tr>\n",
       "      <th>2</th>\n",
       "      <td>1.0</td>\n",
       "      <td>1.0</td>\n",
       "      <td>2.0000</td>\n",
       "      <td>1.0</td>\n",
       "      <td>2.0</td>\n",
       "      <td>151.5500</td>\n",
       "    </tr>\n",
       "    <tr>\n",
       "      <th>3</th>\n",
       "      <td>1.0</td>\n",
       "      <td>0.0</td>\n",
       "      <td>30.0000</td>\n",
       "      <td>1.0</td>\n",
       "      <td>2.0</td>\n",
       "      <td>151.5500</td>\n",
       "    </tr>\n",
       "    <tr>\n",
       "      <th>4</th>\n",
       "      <td>1.0</td>\n",
       "      <td>1.0</td>\n",
       "      <td>25.0000</td>\n",
       "      <td>1.0</td>\n",
       "      <td>2.0</td>\n",
       "      <td>151.5500</td>\n",
       "    </tr>\n",
       "  </tbody>\n",
       "</table>\n",
       "</div>"
      ],
      "text/plain": [
       "   pclass  sex      age  sibsp  parch      fare\n",
       "0     1.0  1.0  29.0000    0.0    0.0  211.3375\n",
       "1     1.0  0.0   0.9167    1.0    2.0  151.5500\n",
       "2     1.0  1.0   2.0000    1.0    2.0  151.5500\n",
       "3     1.0  0.0  30.0000    1.0    2.0  151.5500\n",
       "4     1.0  1.0  25.0000    1.0    2.0  151.5500"
      ]
     },
     "execution_count": 3,
     "metadata": {},
     "output_type": "execute_result"
    }
   ],
   "source": [
    "train_pre = raw_data[['pclass','sex','age','sibsp','parch','fare']]\n",
    "train_pre.head()"
   ]
  },
  {
   "cell_type": "code",
   "execution_count": 4,
   "metadata": {},
   "outputs": [],
   "source": [
    "from sklearn.model_selection import train_test_split\n",
    "X_train, X_test, y_train, y_test = train_test_split(train_pre, raw_data[['survived']], test_size=0.1, random_state=13)"
   ]
  },
  {
   "cell_type": "code",
   "execution_count": 5,
   "metadata": {},
   "outputs": [],
   "source": [
    "X_train = X_train.reset_index()\n",
    "X_train = X_train.drop(['index'], axis=1)\n",
    "\n",
    "X_test = X_test.reset_index()\n",
    "X_test = X_test.drop(['index'], axis=1)\n",
    "\n",
    "y_train = y_train.reset_index()\n",
    "y_train = y_train.drop(['index'], axis=1)\n",
    "\n",
    "y_test = y_test.reset_index()\n",
    "y_test = y_test.drop(['index'], axis=1)"
   ]
  },
  {
   "cell_type": "code",
   "execution_count": 19,
   "metadata": {},
   "outputs": [
    {
     "name": "stdout",
     "output_type": "stream",
     "text": [
      "Score: 0.8117021276595745\n",
      "[1 0 0 0 1 0 0 1 0 1 0 0 0 0 1]\n"
     ]
    }
   ],
   "source": [
    "from sklearn.tree import DecisionTreeClassifier\n",
    "tree_clf = DecisionTreeClassifier(max_depth=3, random_state=13)\n",
    "tree_clf.fit(X_train, y_train)\n",
    "print('Score: {}'.format(tree_clf.score(X_train, y_train)))\n",
    "print(tree_clf.predict(X_train[:15]))"
   ]
  },
  {
   "cell_type": "code",
   "execution_count": 22,
   "metadata": {},
   "outputs": [
    {
     "data": {
      "application/vnd.jupyter.widget-view+json": {
       "model_id": "fdc26f6eac54419ea9290474ab00fd63",
       "version_major": 2,
       "version_minor": 0
      },
      "text/plain": [
       "Decision tree attack:   0%|          | 0/15 [00:00<?, ?it/s]"
      ]
     },
     "metadata": {},
     "output_type": "display_data"
    }
   ],
   "source": [
    "#모든 공격을 적용하기 위한 분류기\n",
    "clf_art = SklearnClassifier(tree_clf)\n",
    "\n",
    "#Decision Tree 공격 선언\n",
    "attack = DecisionTreeAttack(clf_art)\n",
    "adv_x = attack.generate(X_train[:15])"
   ]
  },
  {
   "cell_type": "code",
   "execution_count": 25,
   "metadata": {},
   "outputs": [
    {
     "name": "stdout",
     "output_type": "stream",
     "text": [
      "[0 1 1 1 0 1 1 0 1 0 1 1 1 1 0]\n"
     ]
    }
   ],
   "source": [
    "#공격 받고 나서 예측 결과 출력\n",
    "print(tree_clf.predict(adv))\n"
   ]
  },
  {
   "cell_type": "code",
   "execution_count": 8,
   "metadata": {},
   "outputs": [
    {
     "data": {
      "text/plain": [
       "'images/decision_trees\\\\titanic_tree.png'"
      ]
     },
     "execution_count": 8,
     "metadata": {},
     "output_type": "execute_result"
    }
   ],
   "source": [
    "from sklearn.tree import export_graphviz\n",
    "\n",
    "export_graphviz(\n",
    "        tree_clf,\n",
    "        out_file=\"titanic.dot\",\n",
    "        feature_names=['pclass', 'sex', 'age', 'sibsp', 'parch', 'fare'],\n",
    "        class_names=['Unsurvived','Survived'],\n",
    "        rounded=True,\n",
    "        filled=True\n",
    "    )\n",
    "\n",
    "import graphviz\n",
    "with open(\"titanic.dot\") as f:\n",
    "    dot_graph = f.read()\n",
    "dot = graphviz.Source(dot_graph)\n",
    "dot.format = 'png'\n",
    "dot.render(filename='titanic_tree', directory='images/decision_trees', cleanup=True)"
   ]
  },
  {
   "cell_type": "code",
   "execution_count": 9,
   "metadata": {},
   "outputs": [
    {
     "name": "stdout",
     "output_type": "stream",
     "text": [
      "Test Accuracy is  84.76190476190476\n"
     ]
    }
   ],
   "source": [
    "from sklearn.metrics import accuracy_score\n",
    "\n",
    "y_pred = tree_clf.predict(X_test)\n",
    "print(\"Test Accuracy is \", accuracy_score(y_test, y_pred)*100)"
   ]
  },
  {
   "cell_type": "code",
   "execution_count": 10,
   "metadata": {},
   "outputs": [],
   "source": [
    "from art.attacks.evasion import DecisionTreeAttack\n",
    "from art.estimators.classification import SklearnClassifier\n",
    "from art.estimators.classification.scikitlearn import ScikitlearnExtraTreesClassifier\n",
    "from art.metrics import RobustnessVerificationTreeModelsCliqueMethod  "
   ]
  },
  {
   "cell_type": "code",
   "execution_count": null,
   "metadata": {},
   "outputs": [],
   "source": []
  }
 ],
 "metadata": {
  "kernelspec": {
   "display_name": "Python 3",
   "language": "python",
   "name": "python3"
  },
  "language_info": {
   "codemirror_mode": {
    "name": "ipython",
    "version": 3
   },
   "file_extension": ".py",
   "mimetype": "text/x-python",
   "name": "python",
   "nbconvert_exporter": "python",
   "pygments_lexer": "ipython3",
   "version": "3.7.7"
  }
 },
 "nbformat": 4,
 "nbformat_minor": 4
}
