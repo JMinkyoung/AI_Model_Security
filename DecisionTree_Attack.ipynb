{
 "cells": [
  {
   "cell_type": "code",
   "execution_count": 61,
   "metadata": {},
   "outputs": [],
   "source": [
    "from sklearn.tree import DecisionTreeClassifier\n",
    "from sklearn.datasets import load_digits\n",
    "from matplotlib import pyplot as plt\n",
    "import numpy as np\n",
    "\n",
    "from sklearn.ensemble import ExtraTreesClassifier\n",
    "from art.attacks.evasion import DecisionTreeAttack\n",
    "from art.estimators.classification import SklearnClassifier\n",
    "from art.estimators.classification.scikitlearn import ScikitlearnExtraTreesClassifier\n",
    "from art.metrics import RobustnessVerificationTreeModelsCliqueMethod  "
   ]
  },
  {
   "cell_type": "code",
   "execution_count": 62,
   "metadata": {},
   "outputs": [
    {
     "name": "stdout",
     "output_type": "stream",
     "text": [
      "[0 1 2 3 4 5 6 7 8 9 0 1 2 3 4]\n"
     ]
    },
    {
     "data": {
      "text/plain": [
       "<matplotlib.colorbar.Colorbar at 0x1f8d37cd848>"
      ]
     },
     "execution_count": 62,
     "metadata": {},
     "output_type": "execute_result"
    },
    {
     "data": {
      "image/png": "[encoded data removed]",
      "text/plain": [
       "<Figure size 432x288 with 2 Axes>"
      ]
     },
     "metadata": {
      "needs_background": "light"
     },
     "output_type": "display_data"
    }
   ],
   "source": [
    "#샘플 데이터 로드\n",
    "digits = load_digits()\n",
    "\n",
    "#훈련, 테스트 데이터 나누기\n",
    "x = digits.data\n",
    "y = digits.target\n",
    "\n",
    "#의사 결정 트리 선언\n",
    "clf = DecisionTreeClassifier()\n",
    "#훈련\n",
    "clf.fit(x,y)\n",
    "\n",
    "#공격 받기 전 예측 결과 출력\n",
    "print(clf.predict(x[:15]))\n",
    "plt.imshow(x[0].reshape(8,8))\n",
    "plt.colorbar()"
   ]
  },
  {
   "cell_type": "code",
   "execution_count": 63,
   "metadata": {},
   "outputs": [
    {
     "data": {
      "application/vnd.jupyter.widget-view+json": {
       "model_id": "81949f72aab94ce39b7ede9b7ebd4f7f",
       "version_major": 2,
       "version_minor": 0
      },
      "text/plain": [
       "Decision tree attack:   0%|          | 0/15 [00:00<?, ?it/s]"
      ]
     },
     "metadata": {},
     "output_type": "display_data"
    },
    {
     "name": "stdout",
     "output_type": "stream",
     "text": [
      "[5 4 4 6 5 4 1 2 4 4 5 4 6 4 7]\n"
     ]
    },
    {
     "data": {
      "text/plain": [
       "<matplotlib.image.AxesImage at 0x1f8fad5dbc8>"
      ]
     },
     "execution_count": 63,
     "metadata": {},
     "output_type": "execute_result"
    },
    {
     "data": {
      "image/png": "[encoded data removed]",
      "text/plain": [
       "<Figure size 432x288 with 1 Axes>"
      ]
     },
     "metadata": {
      "needs_background": "light"
     },
     "output_type": "display_data"
    }
   ],
   "source": [
    "#모든 공격을 적용하기 위한 분류기\n",
    "clf_art = SklearnClassifier(clf)\n",
    "\n",
    "#Decision Tree 공격 선언\n",
    "attack = DecisionTreeAttack(clf_art)\n",
    "adv = attack.generate(x[:15])\n",
    "\n",
    "print(clf.predict(adv))\n",
    "plt.imshow(adv[0].reshape(8,8))\n",
    "#plt.imshow((X[0]-adv[0]).reshape(8,8))  ##use this to plot the difference"
   ]
  },
  {
   "cell_type": "code",
   "execution_count": 16,
   "metadata": {},
   "outputs": [
    {
     "data": {
      "application/vnd.jupyter.widget-view+json": {
       "model_id": "9810b9f0065c46f885fc36909f0a6f5a",
       "version_major": 2,
       "version_minor": 0
      },
      "text/plain": [
       "Decision tree attack:   0%|          | 0/15 [00:00<?, ?it/s]"
      ]
     },
     "metadata": {},
     "output_type": "display_data"
    },
    {
     "name": "stdout",
     "output_type": "stream",
     "text": [
      "[6 6 7 7 8 8 9 9 1 1 2 2 3 3 5]\n"
     ]
    },
    {
     "data": {
      "text/plain": [
       "<matplotlib.image.AxesImage at 0x1f8d2038488>"
      ]
     },
     "execution_count": 16,
     "metadata": {},
     "output_type": "execute_result"
    },
    {
     "data": {
      "image/png": "[encoded data removed]",
      "text/plain": [
       "<Figure size 432x288 with 1 Axes>"
      ]
     },
     "metadata": {
      "needs_background": "light"
     },
     "output_type": "display_data"
    }
   ],
   "source": [
    "adv = attack.generate(x[:15],np.array([6,6,7,7,8,8,9,9,1,1,2,2,3,3,5]))\n",
    "print(clf.predict(adv))\n",
    "plt.imshow(adv[0].reshape(8,8))\n",
    "#plt.imshow((X[0]-adv[0]).reshape(8,8))"
   ]
  },
  {
   "cell_type": "code",
   "execution_count": 18,
   "metadata": {},
   "outputs": [
    {
     "data": {
      "application/vnd.jupyter.widget-view+json": {
       "model_id": "a2b144f71087428d8b3ffecd9f8d1ffa",
       "version_major": 2,
       "version_minor": 0
      },
      "text/plain": [
       "Decision tree attack:   0%|          | 0/15 [00:00<?, ?it/s]"
      ]
     },
     "metadata": {},
     "output_type": "display_data"
    },
    {
     "name": "stdout",
     "output_type": "stream",
     "text": [
      "[5 4 4 4 5 4 1 2 4 4 5 4 4 4 7]\n",
      "[0 1 2 3 4 5 6 7 8 9 0 1 2 3 4]\n"
     ]
    },
    {
     "data": {
      "text/plain": [
       "<matplotlib.colorbar.Colorbar at 0x1f8d322a8c8>"
      ]
     },
     "execution_count": 18,
     "metadata": {},
     "output_type": "execute_result"
    },
    {
     "data": {
      "image/png": "[encoded data removed]",
      "text/plain": [
       "<Figure size 432x288 with 2 Axes>"
      ]
     },
     "metadata": {
      "needs_background": "light"
     },
     "output_type": "display_data"
    }
   ],
   "source": [
    "attack = DecisionTreeAttack(clf_art,offset=20.0)\n",
    "adv = attack.generate(x[:15])\n",
    "print(clf.predict(adv))\n",
    "print(clf.predict(x[:15]))\n",
    "\n",
    "plt.imshow(adv[0].reshape(8,8))\n",
    "#plt.imshow((X[0]-adv[0]).reshape(8,8))\n",
    "plt.colorbar()"
   ]
  },
  {
   "cell_type": "code",
   "execution_count": null,
   "metadata": {},
   "outputs": [],
   "source": []
  }
 ],
 "metadata": {
  "kernelspec": {
   "display_name": "Python 3",
   "language": "python",
   "name": "python3"
  },
  "language_info": {
   "codemirror_mode": {
    "name": "ipython",
    "version": 3
   },
   "file_extension": ".py",
   "mimetype": "text/x-python",
   "name": "python",
   "nbconvert_exporter": "python",
   "pygments_lexer": "ipython3",
   "version": "3.7.7"
  }
 },
 "nbformat": 4,
 "nbformat_minor": 4
}
